{
 "cells": [
  {
   "cell_type": "code",
   "execution_count": 34,
   "metadata": {},
   "outputs": [
    {
     "name": "stdout",
     "output_type": "stream",
     "text": [
      "Traceback (most recent call last):\n",
      "  File \"/home/sci/PycharmProjects/chaofan/projects/histoFL/main.py\", line 106, in <module>\n",
      "    parser.add_argument('--testing',default=False,helo = '?test')\n",
      "  File \"/home/sci/anaconda3/envs/lcf/lib/python3.9/argparse.py\", line 1423, in add_argument\n",
      "    action = action_class(**kwargs)\n",
      "TypeError: __init__() got an unexpected keyword argument 'helo'\n"
     ]
    }
   ],
   "source": [
    "!python main.py -h"
   ]
  },
  {
   "cell_type": "markdown",
   "metadata": {},
   "source": [
    "## Individual Site\n",
    "- 注意更改数据根目录下的特征目录以及csv文件的目录\n",
    "- 不知道为什么--split 必须要使用绝对路径\n",
    "- main.py line60 n_classes=3 超级坑 "
   ]
  },
  {
   "cell_type": "code",
   "execution_count": 1,
   "metadata": {},
   "outputs": [
    {
     "name": "stdout",
     "output_type": "stream",
     "text": [
      "I'm using GPU!!!\n",
      "\n",
      "Load Dataset\n",
      "label column: diagnosis_label\n",
      "label dictionary: {'class_0': 0, 'class_1': 1}\n",
      "number of classes: 2\n",
      "slide-level counts:  \n",
      " 0    132\n",
      "1    139\n",
      "Name: label, dtype: int64\n",
      "Patient-LVL; Number of samples registered in class 0: 58\n",
      "Slide-LVL; Number of samples registered in class 0: 132\n",
      "Patient-LVL; Number of samples registered in class 1: 81\n",
      "Slide-LVL; Number of samples registered in class 1: 139\n",
      "################# Settings ###################\n",
      "num_splits:  10\n",
      "k_start:  -1\n",
      "k_end:  -1\n",
      "task:  classification\n",
      "max_epochs:  50\n",
      "results_dir:  ./results\n",
      "lr:  0.0002\n",
      "experiment:  cation_institute_0_only\n",
      "reg:  1e-05\n",
      "seed:  1\n",
      "model_type:  attention_mil\n",
      "model_size:  small\n",
      "use_drop_out:  True\n",
      "weighted_sample:  True\n",
      "E:  1\n",
      "opt:  adam\n",
      "inst_name:  institute_0\n",
      "split_dir:  /home/sci/PycharmProjects/chaofan/projects/histoFL/splits/myself_fold\n",
      "sdlfkjsakljf;lksjdf;lkja;lksdhjfpkla==========================2\n",
      "I'm using GPU!!!\n",
      "Traceback (most recent call last):\n",
      "  File \"/home/sci/PycharmProjects/chaofan/projects/histoFL/main.py\", line 201, in <module>\n",
      "    results = main(args)\n",
      "  File \"/home/sci/PycharmProjects/chaofan/projects/histoFL/main.py\", line 56, in main\n",
      "    print('training: {}, validation: {}, testing: {}'.format(len(train_dataset), len(val_dataset), len(test_dataset)))\n",
      "TypeError: object of type 'NoneType' has no len()\n"
     ]
    }
   ],
   "source": [
    "!CUDA_VISIBLE_DEVICES=0 python main.py --k 10 --exp_code cation_institute_0_only --weighted_sample --task classification --inst_name institute_0 --data_root_dir DATA_ROOT_DIR --split_dir /home/sci/PycharmProjects/chaofan/projects/histoFL/splits/myself_fold --n_classes 2"
   ]
  },
  {
   "cell_type": "code",
   "execution_count": null,
   "metadata": {},
   "outputs": [],
   "source": [
    "%load_ext tensorboard"
   ]
  }
 ],
 "metadata": {
  "kernelspec": {
   "display_name": "Python 3.9.13 ('lcf')",
   "language": "python",
   "name": "python3"
  },
  "language_info": {
   "codemirror_mode": {
    "name": "ipython",
    "version": 3
   },
   "file_extension": ".py",
   "mimetype": "text/x-python",
   "name": "python",
   "nbconvert_exporter": "python",
   "pygments_lexer": "ipython3",
   "version": "3.9.13"
  },
  "orig_nbformat": 4,
  "vscode": {
   "interpreter": {
    "hash": "dddf4cc44ccb2cf796823d3e6277e76da85a74a2d70ce7f32ed1ef0f62e61e3b"
   }
  }
 },
 "nbformat": 4,
 "nbformat_minor": 2
}
