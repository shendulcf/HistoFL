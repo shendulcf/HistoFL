{
 "cells": [
  {
   "cell_type": "code",
   "execution_count": 1,
   "metadata": {},
   "outputs": [],
   "source": [
    "import os\n",
    "import numpy as np\n",
    "import pandas as pd"
   ]
  },
  {
   "cell_type": "code",
   "execution_count": 48,
   "metadata": {},
   "outputs": [
    {
     "data": {
      "text/plain": [
       "class_0    519\n",
       "class_1    337\n",
       "class_2    144\n",
       "Name: diagnosis_label, dtype: int64"
      ]
     },
     "execution_count": 48,
     "metadata": {},
     "output_type": "execute_result"
    }
   ],
   "source": [
    "df = pd.read_csv('../dataset_csv/renal_fl.csv').drop(['tissue_source', 'data_source'], axis=1).iloc[:1000,]\n",
    "df = df.rename(columns={'oncotree_code': 'diagnosis_label'})\n",
    "u_cases = df.case_id.unique()\n",
    "u_slides = df.slide_id.unique()\n",
    "u_diagnoses = df.diagnosis_label.unique()\n",
    "u_inst = df.institute.unique()\n",
    "df['case_id'] = df['case_id'].map({key:val for key,val in zip(u_cases, ['case_%i' % i for i in range(len(u_cases))])})\n",
    "df['slide_id'] =   df['slide_id'].map({key:val for key,val in zip(u_slides, ['slide_%i' % i for i in range(len(u_slides))])})         \n",
    "df['diagnosis_label'] = df['diagnosis_label'].map({key:val for key,val in zip(u_diagnoses, ['class_%i' % i for i in range(len(u_diagnoses))])})                                                    \n",
    "df['institute'] = df['institute'].map({key:val for key,val in zip(u_inst, ['site_%i' % i for i in range(len(u_inst))])})\n",
    "df.to_csv('../dataset_csv/classification_fl_dummy_dataset.csv', index=False)\n",
    "df.diagnosis_label.value_counts()\n"
   ]
  },
  {
   "cell_type": "code",
   "execution_count": 46,
   "metadata": {},
   "outputs": [
    {
     "data": {
      "text/html": [
       "<div>\n",
       "<style scoped>\n",
       "    .dataframe tbody tr th:only-of-type {\n",
       "        vertical-align: middle;\n",
       "    }\n",
       "\n",
       "    .dataframe tbody tr th {\n",
       "        vertical-align: top;\n",
       "    }\n",
       "\n",
       "    .dataframe thead th {\n",
       "        text-align: right;\n",
       "    }\n",
       "</style>\n",
       "<table border=\"1\" class=\"dataframe\">\n",
       "  <thead>\n",
       "    <tr style=\"text-align: right;\">\n",
       "      <th></th>\n",
       "      <th>case_id</th>\n",
       "      <th>slide_id</th>\n",
       "      <th>censorship</th>\n",
       "      <th>survival_months</th>\n",
       "      <th>institute</th>\n",
       "    </tr>\n",
       "  </thead>\n",
       "  <tbody>\n",
       "    <tr>\n",
       "      <th>0</th>\n",
       "      <td>case_0</td>\n",
       "      <td>slide_0</td>\n",
       "      <td>1</td>\n",
       "      <td>12.65</td>\n",
       "      <td>site_0</td>\n",
       "    </tr>\n",
       "    <tr>\n",
       "      <th>1</th>\n",
       "      <td>case_1</td>\n",
       "      <td>slide_1</td>\n",
       "      <td>1</td>\n",
       "      <td>11.89</td>\n",
       "      <td>site_0</td>\n",
       "    </tr>\n",
       "    <tr>\n",
       "      <th>2</th>\n",
       "      <td>case_2</td>\n",
       "      <td>slide_2</td>\n",
       "      <td>1</td>\n",
       "      <td>36.79</td>\n",
       "      <td>site_1</td>\n",
       "    </tr>\n",
       "    <tr>\n",
       "      <th>3</th>\n",
       "      <td>case_3</td>\n",
       "      <td>slide_3</td>\n",
       "      <td>1</td>\n",
       "      <td>47.17</td>\n",
       "      <td>site_1</td>\n",
       "    </tr>\n",
       "    <tr>\n",
       "      <th>4</th>\n",
       "      <td>case_4</td>\n",
       "      <td>slide_4</td>\n",
       "      <td>1</td>\n",
       "      <td>0.53</td>\n",
       "      <td>site_1</td>\n",
       "    </tr>\n",
       "    <tr>\n",
       "      <th>...</th>\n",
       "      <td>...</td>\n",
       "      <td>...</td>\n",
       "      <td>...</td>\n",
       "      <td>...</td>\n",
       "      <td>...</td>\n",
       "    </tr>\n",
       "    <tr>\n",
       "      <th>295</th>\n",
       "      <td>case_293</td>\n",
       "      <td>slide_295</td>\n",
       "      <td>1</td>\n",
       "      <td>56.87</td>\n",
       "      <td>site_2</td>\n",
       "    </tr>\n",
       "    <tr>\n",
       "      <th>296</th>\n",
       "      <td>case_294</td>\n",
       "      <td>slide_296</td>\n",
       "      <td>1</td>\n",
       "      <td>68.33</td>\n",
       "      <td>site_2</td>\n",
       "    </tr>\n",
       "    <tr>\n",
       "      <th>297</th>\n",
       "      <td>case_295</td>\n",
       "      <td>slide_297</td>\n",
       "      <td>1</td>\n",
       "      <td>11.63</td>\n",
       "      <td>site_2</td>\n",
       "    </tr>\n",
       "    <tr>\n",
       "      <th>298</th>\n",
       "      <td>case_296</td>\n",
       "      <td>slide_298</td>\n",
       "      <td>1</td>\n",
       "      <td>60.91</td>\n",
       "      <td>site_2</td>\n",
       "    </tr>\n",
       "    <tr>\n",
       "      <th>299</th>\n",
       "      <td>case_297</td>\n",
       "      <td>slide_299</td>\n",
       "      <td>0</td>\n",
       "      <td>15.77</td>\n",
       "      <td>site_2</td>\n",
       "    </tr>\n",
       "  </tbody>\n",
       "</table>\n",
       "<p>300 rows × 5 columns</p>\n",
       "</div>"
      ],
      "text/plain": [
       "      case_id   slide_id  censorship  survival_months institute\n",
       "0      case_0    slide_0           1            12.65    site_0\n",
       "1      case_1    slide_1           1            11.89    site_0\n",
       "2      case_2    slide_2           1            36.79    site_1\n",
       "3      case_3    slide_3           1            47.17    site_1\n",
       "4      case_4    slide_4           1             0.53    site_1\n",
       "..        ...        ...         ...              ...       ...\n",
       "295  case_293  slide_295           1            56.87    site_2\n",
       "296  case_294  slide_296           1            68.33    site_2\n",
       "297  case_295  slide_297           1            11.63    site_2\n",
       "298  case_296  slide_298           1            60.91    site_2\n",
       "299  case_297  slide_299           0            15.77    site_2\n",
       "\n",
       "[300 rows x 5 columns]"
      ]
     },
     "execution_count": 46,
     "metadata": {},
     "output_type": "execute_result"
    }
   ],
   "source": [
    "df = pd.read_csv('../dataset_csv/kirc_fl_survival.csv').drop(['tissue_source', 'oncotree_code'], axis=1).iloc[:300,]\n",
    "df\n",
    "# df = df.rename(columns={'oncotree_code': 'diagnosis_label'})\n",
    "u_cases = df.case_id.unique()\n",
    "u_slides = df.slide_id.unique()\n",
    "u_inst = df.institute.unique()\n",
    "df['case_id'] = df['case_id'].map({key:val for key,val in zip(u_cases, ['case_%i' % i for i in range(len(u_cases))])})\n",
    "df['slide_id'] =   df['slide_id'].map({key:val for key,val in zip(u_slides, ['slide_%i' % i for i in range(len(u_slides))])})                                                       \n",
    "df['institute'] = df['institute'].map({key:val for key,val in zip(u_inst, ['site_%i' % i for i in range(len(u_inst))])})\n",
    "df.to_csv('../dataset_csv/survival_fl_dummy_dataset.csv', index=False)\n",
    "df"
   ]
  }
 ],
 "metadata": {
  "kernelspec": {
   "display_name": "Python 3.9.13 ('lcf')",
   "language": "python",
   "name": "python3"
  },
  "language_info": {
   "codemirror_mode": {
    "name": "ipython",
    "version": 3
   },
   "file_extension": ".py",
   "mimetype": "text/x-python",
   "name": "python",
   "nbconvert_exporter": "python",
   "pygments_lexer": "ipython3",
   "version": "3.9.13"
  },
  "vscode": {
   "interpreter": {
    "hash": "dddf4cc44ccb2cf796823d3e6277e76da85a74a2d70ce7f32ed1ef0f62e61e3b"
   }
  }
 },
 "nbformat": 4,
 "nbformat_minor": 4
}
